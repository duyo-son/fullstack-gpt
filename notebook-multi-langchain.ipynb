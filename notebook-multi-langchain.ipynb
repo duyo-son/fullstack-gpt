{
 "cells": [
  {
   "cell_type": "code",
   "execution_count": 2,
   "metadata": {},
   "outputs": [],
   "source": [
    "from langchain.chat_models import ChatOpenAI\n",
    "from langchain.prompts import ChatPromptTemplate\n",
    "from langchain.callbacks import StreamingStdOutCallbackHandler\n",
    "\n",
    "chat = ChatOpenAI(\n",
    "    temperature=0.1,\n",
    "    streaming=True,\n",
    "    callbacks=[StreamingStdOutCallbackHandler()]\n",
    ")"
   ]
  },
  {
   "cell_type": "code",
   "execution_count": 3,
   "metadata": {},
   "outputs": [
    {
     "name": "stdout",
     "output_type": "stream",
     "text": [
      "カレーのレシピを教えますね。以下が基本的なカレーの作り方です。\n",
      "\n",
      "【材料】（4人分）\n",
      "- 鶏肉または牛肉：400g\n",
      "- 玉ねぎ：2個\n",
      "- にんじん：1本\n",
      "- ジャガイモ：2個\n",
      "- ガーリック：2片\n",
      "- 生姜：1片\n",
      "- カレールー：4個\n",
      "- 水または鶏/牛のスープ：800ml\n",
      "- サラダ油：大さじ2\n",
      "- 塩：適量\n",
      "- こしょう：適量\n",
      "\n",
      "【作り方】\n",
      "1. 鶏肉または牛肉を一口大に切り、塩とこしょうで下味をつける。\n",
      "2. 玉ねぎ、にんじん、ジャガイモをそれぞれ一口大に切る。\n",
      "3. ガーリックと生姜をみじん切りにする。\n",
      "4. 鍋にサラダ油を熱し、ガーリックと生姜を炒める。\n",
      "5. 鶏肉または牛肉を加えて炒め、色が変わるまで炒め続ける。\n",
      "6. 玉ねぎ、にんじん、ジャガイモを加えて炒める。\n",
      "7. 水または鶏/牛のスープを加え、材料がかぶるくらいまで煮込む。\n",
      "8. カレールーを加え、溶けるまでかき混ぜる。\n",
      "9. 弱火で15〜20分ほど煮込み、材料が柔らかくなるまで煮込む。\n",
      "10. 器に盛り付けて完成です。\n",
      "\n",
      "この基本的なカレーのレシピには、お好みで他の野菜やスパイスを加えることもできます。また、辛さや濃さはカレールーの量で調整することができますので、お好みに合わせて調整してください。カレーのレシピに必要な材料をまとめますね。\n",
      "\n",
      "- 鶏肉または牛肉：400g\n",
      "- 玉ねぎ：2個\n",
      "- にんじん：1本\n",
      "- ジャガイモ：2個\n",
      "- ガーリック：2片\n",
      "- 生姜：1片\n",
      "- カレールー：4個\n",
      "- 水または鶏/牛のスープ：800ml\n",
      "- サラダ油：大さじ2\n",
      "- 塩：適量\n",
      "- こしょう：適量\n",
      "\n",
      "これらの材料を買い物リストに追加してください。"
     ]
    },
    {
     "data": {
      "text/plain": [
       "AIMessageChunk(content='カレーのレシピに必要な材料をまとめますね。\\n\\n- 鶏肉または牛肉：400g\\n- 玉ねぎ：2個\\n- にんじん：1本\\n- ジャガイモ：2個\\n- ガーリック：2片\\n- 生姜：1片\\n- カレールー：4個\\n- 水または鶏/牛のスープ：800ml\\n- サラダ油：大さじ2\\n- 塩：適量\\n- こしょう：適量\\n\\nこれらの材料を買い物リストに追加してください。')"
      ]
     },
     "execution_count": 3,
     "metadata": {},
     "output_type": "execute_result"
    }
   ],
   "source": [
    "\n",
    "first_prompt = ChatPromptTemplate.from_messages([\n",
    "    (\"system\", \"あなたは料理師です。\"),\n",
    "    (\"human\", \"{cook}のレシピを教えてください。\"),\n",
    "])\n",
    "\n",
    "second_prompt = ChatPromptTemplate.from_messages([\n",
    "    (\"system\", \"あなたは料理師マスタです。\"),\n",
    "    (\"human\", \"{recepi}を確認し、買い物をまとめてください。\"),\n",
    "])\n",
    "\n",
    "first_result = first_prompt | chat\n",
    "secon_result = second_prompt | chat\n",
    "final_result = {\"recepi\": first_result} | secon_result\n",
    "\n",
    "final_result.invoke({\"cook\": \"カレー\"})\n",
    "\n"
   ]
  }
 ],
 "metadata": {
  "kernelspec": {
   "display_name": "env",
   "language": "python",
   "name": "python3"
  },
  "language_info": {
   "codemirror_mode": {
    "name": "ipython",
    "version": 3
   },
   "file_extension": ".py",
   "mimetype": "text/x-python",
   "name": "python",
   "nbconvert_exporter": "python",
   "pygments_lexer": "ipython3",
   "version": "3.11.4"
  }
 },
 "nbformat": 4,
 "nbformat_minor": 2
}
